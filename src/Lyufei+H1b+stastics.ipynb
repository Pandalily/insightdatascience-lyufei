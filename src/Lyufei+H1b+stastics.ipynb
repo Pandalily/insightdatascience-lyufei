{
 "cells": [
  {
   "cell_type": "code",
   "execution_count": 2,
   "metadata": {
    "collapsed": true
   },
   "outputs": [],
   "source": [
    "import csv\n",
    "\n",
    "with open(r\"./input/h1b_input.csv\") as f:\n",
    "    data = []\n",
    "    for line in f:\n",
    "        data_line = line.rstrip().split(';')\n",
    "        data.append(data_line)\n",
    "headerlist = data[0]"
   ]
  },
  {
   "cell_type": "code",
   "execution_count": 3,
   "metadata": {},
   "outputs": [
    {
     "name": "stdout",
     "output_type": "stream",
     "text": [
      "2 22 21 38\n"
     ]
    }
   ],
   "source": [
    "status_index=headerlist.index('CASE_STATUS')\n",
    "occupation_index=headerlist.index('SOC_NAME')\n",
    "occupationcode_index=headerlist.index('SOC_CODE')\n",
    "state_index=headerlist.index('WORKSITE_STATE')\n",
    "print(status_index,occupation_index,occupationcode_index,state_index)"
   ]
  },
  {
   "cell_type": "code",
   "execution_count": 4,
   "metadata": {
    "collapsed": true
   },
   "outputs": [],
   "source": [
    "occupation_list = []\n",
    "occupationcode_list = []\n",
    "state_list = []\n",
    "for i,x in enumerate (data):\n",
    "    if 'CERTIFIED' in x:\n",
    "            occupation_list.append(data[i][occupation_index])\n",
    "            occupationcode_list.append(data[i][occupationcode_index])\n",
    "            state_list.append(data[i][state_index])"
   ]
  },
  {
   "cell_type": "code",
   "execution_count": 5,
   "metadata": {},
   "outputs": [
    {
     "name": "stdout",
     "output_type": "stream",
     "text": [
      "{'15-1132': 106207, '15-1121': 104380, '15-1131': 74116, '15-1199': 53124, '15-1133': 19286, '13-1111': 13635, '15-1142': 10168, '13-2011': 9674, '17-2141': 8300, '13-2051': 8002}\n"
     ]
    }
   ],
   "source": [
    "All_occupationcode = set(occupationcode_list)\n",
    "occupationcode_dict = dict((x, occupationcode_list.count(x)) for x in All_occupationcode)\n",
    "sum_occupationcode_dict = sum(occupationcode_dict.values())\n",
    "occupationcode_dict_sorted_keys = sorted(occupationcode_dict, key=occupationcode_dict.get, reverse=True)\n",
    "Top_10_occupationcode = {r: occupationcode_dict[r] for r in occupationcode_dict_sorted_keys[:10]}\n",
    "print (Top_10_occupationcode)"
   ]
  },
  {
   "cell_type": "code",
   "execution_count": 6,
   "metadata": {},
   "outputs": [
    {
     "data": {
      "text/plain": [
       "[['15-1132', 106207, '18.6%'],\n",
       " ['15-1121', 104380, '18.3%'],\n",
       " ['15-1131', 74116, '13.0%'],\n",
       " ['15-1199', 53124, '9.3%'],\n",
       " ['15-1133', 19286, '3.4%'],\n",
       " ['13-1111', 13635, '2.4%'],\n",
       " ['15-1142', 10168, '1.8%'],\n",
       " ['13-2011', 9674, '1.7%'],\n",
       " ['17-2141', 8300, '1.5%'],\n",
       " ['13-2051', 8002, '1.4%']]"
      ]
     },
     "execution_count": 6,
     "metadata": {},
     "output_type": "execute_result"
    }
   ],
   "source": [
    "Top_10_occupationcode_list = [x for x in Top_10_occupationcode.items()]\n",
    "Final_Top_10_occupationcode_list = []\n",
    "for i in range(10):\n",
    "    a = list(Top_10_occupationcode_list[i])\n",
    "    Final_Top_10_occupationcode_list.append(a)\n",
    "    Final_Top_10_occupationcode_list[i].insert(3,\"{:.1%}\".format(Top_10_occupationcode_list[i][1]/sum_occupationcode_dict))\n",
    "Final_Top_10_occupationcode_list"
   ]
  },
  {
   "cell_type": "code",
   "execution_count": 7,
   "metadata": {
    "collapsed": true
   },
   "outputs": [],
   "source": [
    "All_occupation = set(occupation_list) \n",
    "occupation_dict = dict((x,occupation_list.count(x)) for x in All_occupation)\n",
    "sum_occupation_dict = sum(occupation_dict.values())\n",
    "occupation_dict_sorted_keys = sorted(occupation_dict, key=occupation_dict.get, reverse=True)\n",
    "Top_10_Occupations = {r: occupation_dict[r] for r in occupation_dict_sorted_keys[:10]}\n",
    "Top_10_occupation_list = [x for x in Top_10_Occupations.items()]\n"
   ]
  },
  {
   "cell_type": "code",
   "execution_count": 8,
   "metadata": {},
   "outputs": [
    {
     "name": "stdout",
     "output_type": "stream",
     "text": [
      "15-1132\n",
      "15-1121\n",
      "15-1131\n",
      "15-1199\n",
      "15-1133\n",
      "13-1111\n",
      "15-1142\n",
      "13-2011\n",
      "17-2141\n",
      "13-2051\n"
     ]
    }
   ],
   "source": [
    "for i in range(10):\n",
    "    print(Top_10_occupationcode_list[i][0])"
   ]
  },
  {
   "cell_type": "code",
   "execution_count": 9,
   "metadata": {},
   "outputs": [
    {
     "data": {
      "text/plain": [
       "[['SOFTWARE DEVELOPERS, APPLICATIONS', 106207, '18.6%'],\n",
       " ['COMPUTER SYSTEMS ANALYSTS', 104380, '18.3%'],\n",
       " ['COMPUTER PROGRAMMERS', 74116, '13.0%'],\n",
       " ['COMPUTER OCCUPATIONS, ALL OTHER', 53124, '9.3%'],\n",
       " ['SOFTWARE DEVELOPERS, SYSTEMS SOFTWARE', 19286, '3.4%'],\n",
       " ['COMPUTER SYSTEMS ANALYST', 13635, '2.4%'],\n",
       " ['MANAGEMENT ANALYSTS', 10168, '1.8%'],\n",
       " ['NETWORK AND COMPUTER SYSTEMS ADMINISTRATORS', 9674, '1.7%'],\n",
       " ['ACCOUNTANTS AND AUDITORS', 8300, '1.5%'],\n",
       " ['MECHANICAL ENGINEERS', 8002, '1.4%']]"
      ]
     },
     "execution_count": 9,
     "metadata": {},
     "output_type": "execute_result"
    }
   ],
   "source": [
    "for i in range(10):\n",
    "    Final_Top_10_occupationcode_list[i][0]=Top_10_occupation_list[i][0]\n",
    "Final_Top_10_occupationcode_list"
   ]
  },
  {
   "cell_type": "code",
   "execution_count": 45,
   "metadata": {},
   "outputs": [
    {
     "data": {
      "text/plain": [
       "['TOP_OCCUPATIONS',\n",
       " 'NUMBER_CERTIFIED_APPLICATIONS',\n",
       " 'PERCENTAGE',\n",
       " 'SOFTWARE DEVELOPERS, APPLICATIONS',\n",
       " 106207,\n",
       " '18.6%',\n",
       " 'COMPUTER SYSTEMS ANALYSTS',\n",
       " 104380,\n",
       " '18.3%',\n",
       " 'COMPUTER PROGRAMMERS',\n",
       " 74116,\n",
       " '13.0%',\n",
       " 'COMPUTER OCCUPATIONS, ALL OTHER',\n",
       " 53124,\n",
       " '9.3%',\n",
       " 'SOFTWARE DEVELOPERS, SYSTEMS SOFTWARE',\n",
       " 19286,\n",
       " '3.4%',\n",
       " 'COMPUTER SYSTEMS ANALYST',\n",
       " 13635,\n",
       " '2.4%',\n",
       " 'MANAGEMENT ANALYSTS',\n",
       " 10168,\n",
       " '1.8%',\n",
       " 'NETWORK AND COMPUTER SYSTEMS ADMINISTRATORS',\n",
       " 9674,\n",
       " '1.7%',\n",
       " 'ACCOUNTANTS AND AUDITORS',\n",
       " 8300,\n",
       " '1.5%',\n",
       " 'MECHANICAL ENGINEERS',\n",
       " 8002,\n",
       " '1.4%']"
      ]
     },
     "execution_count": 45,
     "metadata": {},
     "output_type": "execute_result"
    }
   ],
   "source": [
    "Top_10_occupations_result = []\n",
    "for t in Final_Top_10_occupationcode_list:\n",
    "    for x in t:\n",
    "        Top_10_occupations_result.append(x)\n",
    "Top_10_occupations_result.insert(0,'TOP_OCCUPATIONS')\n",
    "Top_10_occupations_result.insert(1,'NUMBER_CERTIFIED_APPLICATIONS')\n",
    "Top_10_occupations_result.insert(2,'PERCENTAGE')\n",
    "Top_10_occupations_result"
   ]
  },
  {
   "cell_type": "code",
   "execution_count": 54,
   "metadata": {
    "collapsed": true
   },
   "outputs": [],
   "source": [
    "with open('./output/top_10_occupations.txt','w') as out:\n",
    "    for i in range(11):\n",
    "            out.write(\"{};{};{};\\n\".format(Top_10_occupations_result[3*i],Top_10_occupations_result[3*i+1],Top_10_occupations_result[3*i+2]))"
   ]
  },
  {
   "cell_type": "code",
   "execution_count": 10,
   "metadata": {},
   "outputs": [
    {
     "name": "stdout",
     "output_type": "stream",
     "text": [
      "{'CA': 103699, 'TX': 59276, 'NY': 50548, 'NJ': 42839, 'IL': 31024, 'GA': 22142, 'MA': 21562, 'PA': 21039, 'WA': 20340, 'FL': 18527}\n"
     ]
    }
   ],
   "source": [
    "All_state = set(state_list)\n",
    "state_dict = dict((x,state_list.count(x))for x in All_state)\n",
    "sum_state_dict = sum(state_dict.values())\n",
    "state_dict_sorted_keys = sorted(state_dict, key=state_dict.get, reverse=True)\n",
    "Top_10_states = {r: state_dict[r] for r in state_dict_sorted_keys[:10]}\n",
    "print(Top_10_states)"
   ]
  },
  {
   "cell_type": "code",
   "execution_count": 11,
   "metadata": {},
   "outputs": [
    {
     "data": {
      "text/plain": [
       "[['CA', 103699, '18.2%'],\n",
       " ['TX', 59276, '10.4%'],\n",
       " ['NY', 50548, '8.9%'],\n",
       " ['NJ', 42839, '7.5%'],\n",
       " ['IL', 31024, '5.4%'],\n",
       " ['GA', 22142, '3.9%'],\n",
       " ['MA', 21562, '3.8%'],\n",
       " ['PA', 21039, '3.7%'],\n",
       " ['WA', 20340, '3.6%'],\n",
       " ['FL', 18527, '3.3%']]"
      ]
     },
     "execution_count": 11,
     "metadata": {},
     "output_type": "execute_result"
    }
   ],
   "source": [
    "Top_10_states_list = [x for x in Top_10_states.items()]\n",
    "Final_Top_10_states_list = []\n",
    "for i in range(10):\n",
    "    a = list(Top_10_states_list[i])\n",
    "    Final_Top_10_states_list.append(a)\n",
    "    Final_Top_10_states_list[i].insert(3,\"{:.1%}\".format(Top_10_states_list[i][1]/sum_state_dict))\n",
    "Final_Top_10_states_list"
   ]
  },
  {
   "cell_type": "code",
   "execution_count": 48,
   "metadata": {},
   "outputs": [
    {
     "data": {
      "text/plain": [
       "['TOP_STATES',\n",
       " 'NUMBER_CERTIFIED_APPLICATIONS',\n",
       " 'PERCENTAGE',\n",
       " 'CA',\n",
       " 103699,\n",
       " '18.2%',\n",
       " 'TX',\n",
       " 59276,\n",
       " '10.4%',\n",
       " 'NY',\n",
       " 50548,\n",
       " '8.9%',\n",
       " 'NJ',\n",
       " 42839,\n",
       " '7.5%',\n",
       " 'IL',\n",
       " 31024,\n",
       " '5.4%',\n",
       " 'GA',\n",
       " 22142,\n",
       " '3.9%',\n",
       " 'MA',\n",
       " 21562,\n",
       " '3.8%',\n",
       " 'PA',\n",
       " 21039,\n",
       " '3.7%',\n",
       " 'WA',\n",
       " 20340,\n",
       " '3.6%',\n",
       " 'FL',\n",
       " 18527,\n",
       " '3.3%']"
      ]
     },
     "execution_count": 48,
     "metadata": {},
     "output_type": "execute_result"
    }
   ],
   "source": [
    "Top_10_states_result = []\n",
    "for t in Final_Top_10_states_list:\n",
    "    for x in t:\n",
    "        Top_10_states_result.append(x)\n",
    "Top_10_states_result.insert(0,'TOP_STATES')\n",
    "Top_10_states_result.insert(1,'NUMBER_CERTIFIED_APPLICATIONS')\n",
    "Top_10_states_result.insert(2,'PERCENTAGE')\n",
    "Top_10_states_result"
   ]
  },
  {
   "cell_type": "code",
   "execution_count": 53,
   "metadata": {
    "collapsed": true
   },
   "outputs": [],
   "source": [
    "with open('./output/top_10_states.txt','w') as out:\n",
    "    for i in range(11):\n",
    "            out.write(\"{};{};{};\\n\".format(Top_10_states_result[3*i],Top_10_states_result[3*i+1],Top_10_states_result[3*i+2]))"
   ]
  },
  {
   "cell_type": "code",
   "execution_count": null,
   "metadata": {
    "collapsed": true
   },
   "outputs": [],
   "source": []
  }
 ],
 "metadata": {
  "kernelspec": {
   "display_name": "Python 3",
   "language": "python",
   "name": "python3"
  },
  "language_info": {
   "codemirror_mode": {
    "name": "ipython",
    "version": 3
   },
   "file_extension": ".py",
   "mimetype": "text/x-python",
   "name": "python",
   "nbconvert_exporter": "python",
   "pygments_lexer": "ipython3",
   "version": "3.6.1"
  }
 },
 "nbformat": 4,
 "nbformat_minor": 2
}
